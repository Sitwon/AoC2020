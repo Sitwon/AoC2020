{
 "cells": [
  {
   "cell_type": "code",
   "execution_count": 7,
   "metadata": {},
   "outputs": [
    {
     "name": "stdout",
     "output_type": "stream",
     "text": [
      "436\n",
      "Answer: 763\n"
     ]
    }
   ],
   "source": [
    "sample_input=\"\"\"0,3,6\"\"\"\n",
    "\n",
    "starting_numbers = sample_input.split(',') |> map$(int)\n",
    "\n",
    "def next_number(starting_numbers):\n",
    "    spoken = {}\n",
    "    last_spoken = None\n",
    "    turn = 1\n",
    "    for number in starting_numbers:\n",
    "        spoken[number] = (turn, 0)\n",
    "        turn += 1\n",
    "        last_spoken = number\n",
    "        yield number\n",
    "    while True:\n",
    "        if spoken[last_spoken][1] == 0:\n",
    "            number = 0\n",
    "        else:\n",
    "            number = spoken[last_spoken][1]\n",
    "        if number in spoken:\n",
    "            spoken[number] = (turn, turn - spoken[number][0])\n",
    "        else:\n",
    "            spoken[number] = (turn, 0)\n",
    "        turn += 1\n",
    "        last_spoken = number\n",
    "        yield number\n",
    "\n",
    "result = zip(next_number(starting_numbers), range(2020)) |> consume$(?, keep_last=1) |> .pop()\n",
    "print(result[0])\n",
    "assert(result[0] == 436)\n",
    "\n",
    "\n",
    "puzzle_input=\"\"\"0,14,1,3,7,9\"\"\"\n",
    "\n",
    "starting_numbers = puzzle_input.split(',') |> map$(int)\n",
    "result = zip(next_number(starting_numbers), range(2020)) |> consume$(?, keep_last=1) |> .pop()\n",
    "print(\"Answer:\", result[0])"
   ]
  },
  {
   "cell_type": "code",
   "execution_count": 9,
   "metadata": {},
   "outputs": [
    {
     "name": "stdout",
     "output_type": "stream",
     "text": [
      "175594\n",
      "Answer: 1876406\n"
     ]
    }
   ],
   "source": [
    "starting_numbers = sample_input.split(',') |> map$(int)\n",
    "result = zip(next_number(starting_numbers), range(30000000)) |> consume$(?, keep_last=1) |> .pop()\n",
    "print(result[0])\n",
    "assert(result[0] == 175594)\n",
    "\n",
    "starting_numbers = puzzle_input.split(',') |> map$(int)\n",
    "result = zip(next_number(starting_numbers), range(30000000)) |> consume$(?, keep_last=1) |> .pop()\n",
    "print(\"Answer:\", result[0])"
   ]
  }
 ],
 "metadata": {
  "kernelspec": {
   "display_name": "Coconut",
   "language": "coconut",
   "name": "coconut"
  },
  "language_info": {
   "codemirror_mode": {
    "name": "python",
    "version": 3
   },
   "file_extension": ".coco",
   "mimetype": "text/x-python3",
   "name": "coconut",
   "pygments_lexer": "coconut",
   "version": "1.4.3"
  }
 },
 "nbformat": 4,
 "nbformat_minor": 4
}
