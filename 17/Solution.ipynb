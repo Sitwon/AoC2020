{
 "cells": [
  {
   "cell_type": "code",
   "execution_count": 7,
   "metadata": {},
   "outputs": [
    {
     "name": "stdout",
     "output_type": "stream",
     "text": [
      "112\n",
      "Answer: 291\n"
     ]
    }
   ],
   "source": [
    "sample_input=\"\"\"\n",
    ".#.\n",
    "..#\n",
    "###\"\"\"\n",
    "\n",
    "active = {(x, y, 0) for x, row in enumerate(sample_input.splitlines()[1:]) for y, char in enumerate(row) if char == '#'}\n",
    "\n",
    "def neighbors(x, y, z):\n",
    "    nz = {(_x, _y, _z) for _x in range(x-1, x+2) for _y in range(y-1, y+2) for _z in (z-1, z+1)}\n",
    "    ny = {(_x, _y, _z) for _x in range(x-1, x+2) for _y in (y-1, y+1) for _z in range(z-1, z+2)}\n",
    "    nx = {(_x, _y, _z) for _x in (x-1, x+1) for _y in range(y-1, y+2) for _z in range(z-1, z+2)}\n",
    "    return nz | ny | nx\n",
    "\n",
    "def next_gen(active):\n",
    "    next_active = set()\n",
    "    to_test = active.union(*[neighbors(*coords) for coords in active])\n",
    "    for coord in to_test:\n",
    "        if len(neighbors(*coord) & active) == 3:\n",
    "            next_active.add(coord)\n",
    "        elif coord in active and len(neighbors(*coord) & active) == 2:\n",
    "            next_active.add(coord)\n",
    "    return next_active\n",
    "\n",
    "for _ in range(6):\n",
    "    active = next_gen(active)\n",
    "\n",
    "result = len(active)\n",
    "print(result)\n",
    "assert(result == 112)\n",
    "\n",
    "\n",
    "puzzle_input=\"\"\"\n",
    "##.#....\n",
    "...#...#\n",
    ".#.#.##.\n",
    "..#.#...\n",
    ".###....\n",
    ".##.#...\n",
    "#.##..##\n",
    "#.####..\"\"\"\n",
    "\n",
    "active = {(x, y, 0) for x, row in enumerate(puzzle_input.splitlines()[1:]) for y, char in enumerate(row) if char == '#'}\n",
    "\n",
    "for _ in range(6):\n",
    "    active = next_gen(active)\n",
    "\n",
    "result = len(active)\n",
    "print(\"Answer:\", result)"
   ]
  },
  {
   "cell_type": "code",
   "execution_count": 11,
   "metadata": {},
   "outputs": [
    {
     "name": "stdout",
     "output_type": "stream",
     "text": [
      "848\n",
      "Answer: 1524\n"
     ]
    }
   ],
   "source": [
    "active = {(x, y, 0, 0) for x, row in enumerate(sample_input.splitlines()[1:]) for y, char in enumerate(row) if char == '#'}\n",
    "\n",
    "def neighbors2(x, y, z, w):\n",
    "    nz = {(_x, _y, _z, _w) for _x in range(x-1, x+2) for _y in range(y-1, y+2) for _z in (z-1, z+1) for _w in range(w-1, w+2)}\n",
    "    ny = {(_x, _y, _z, _w) for _x in range(x-1, x+2) for _y in (y-1, y+1) for _z in range(z-1, z+2) for _w in range(w-1, w+2)}\n",
    "    nx = {(_x, _y, _z, _w) for _x in (x-1, x+1) for _y in range(y-1, y+2) for _z in range(z-1, z+2) for _w in range(w-1, w+2)}\n",
    "    nw = {(_x, _y, _z, _w) for _x in range(x-1, x+2) for _y in range(y-1, y+2) for _z in range(z-1, z+2) for _w in (w-1, w+1)}\n",
    "    return nz | ny | nx | nw\n",
    "\n",
    "def next_gen2(active):\n",
    "    next_active = set()\n",
    "    to_test = active.union(*[neighbors2(*coords) for coords in active])\n",
    "    for coord in to_test:\n",
    "        if len(neighbors2(*coord) & active) == 3:\n",
    "            next_active.add(coord)\n",
    "        elif coord in active and len(neighbors2(*coord) & active) == 2:\n",
    "            next_active.add(coord)\n",
    "    return next_active\n",
    "\n",
    "for _ in range(6):\n",
    "    active = next_gen2(active)\n",
    "\n",
    "result = len(active)\n",
    "print(result)\n",
    "assert(result == 848)\n",
    "\n",
    "\n",
    "active = {(x, y, 0, 0) for x, row in enumerate(puzzle_input.splitlines()[1:]) for y, char in enumerate(row) if char == '#'}\n",
    "\n",
    "for _ in range(6):\n",
    "    active = next_gen2(active)\n",
    "\n",
    "result = len(active)\n",
    "print(\"Answer:\", result)"
   ]
  }
 ],
 "metadata": {
  "kernelspec": {
   "display_name": "Coconut",
   "language": "coconut",
   "name": "coconut"
  },
  "language_info": {
   "codemirror_mode": {
    "name": "python",
    "version": 3
   },
   "file_extension": ".coco",
   "mimetype": "text/x-python3",
   "name": "coconut",
   "pygments_lexer": "coconut",
   "version": "1.4.3"
  }
 },
 "nbformat": 4,
 "nbformat_minor": 4
}
