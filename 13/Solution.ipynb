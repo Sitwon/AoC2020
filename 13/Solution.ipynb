{
 "cells": [
  {
   "cell_type": "code",
   "execution_count": 8,
   "metadata": {},
   "outputs": [
    {
     "name": "stdout",
     "output_type": "stream",
     "text": [
      "295\n",
      "Answer: 3882\n"
     ]
    }
   ],
   "source": [
    "sample_input=\"\"\"\n",
    "939\n",
    "7,13,x,x,59,x,31,19\"\"\"\n",
    "\n",
    "target_time, routes = sample_input.splitlines()[1:]\n",
    "target_time = int(target_time)\n",
    "routes = routes.split(',') |> filter$(-> _ != 'x') |> map$(int) |> list\n",
    "wait_times = [-(target_time % r) + r for r in routes]\n",
    "min_wait = min(wait_times)\n",
    "bus = routes[wait_times.index(min_wait)]\n",
    "result = min_wait * bus\n",
    "print(result)\n",
    "assert(result == 295)\n",
    "\n",
    "\n",
    "puzzle_input=\"\"\"\n",
    "1006726\n",
    "23,x,x,x,x,x,x,x,x,x,x,x,x,41,x,x,x,x,x,x,x,x,x,647,x,x,x,x,x,x,x,x,x,x,x,x,x,x,x,x,x,13,19,x,x,x,x,x,x,x,x,x,29,x,557,x,x,x,x,x,37,x,x,x,x,x,x,x,x,x,x,17\"\"\"\n",
    "\n",
    "target_time, routes = puzzle_input.splitlines()[1:]\n",
    "target_time = int(target_time)\n",
    "routes = routes.split(',') |> filter$(-> _ != 'x') |> map$(int) |> list\n",
    "wait_times = [-(target_time % r) + r for r in routes]\n",
    "min_wait = min(wait_times)\n",
    "bus = routes[wait_times.index(min_wait)]\n",
    "result = min_wait * bus\n",
    "print(\"Answer:\", result)\n"
   ]
  },
  {
   "cell_type": "code",
   "execution_count": 22,
   "metadata": {},
   "outputs": [
    {
     "name": "stdout",
     "output_type": "stream",
     "text": [
      "1068781\n",
      "Answer: 867295486378319\n"
     ]
    }
   ],
   "source": [
    "routes = [int(r) if r != 'x' else r for r in sample_input.splitlines()[-1].split(',')]\n",
    "routes = enumerate(routes) |> filter$(-> _[1] != 'x') |> list\n",
    "\n",
    "def align_schedule(sched):\n",
    "    \"\"\" This solution stolen from Reddit user 'wleftwich'.\n",
    "    https://github.com/wleftwich/aoc2020/blob/main/13_shuttle_search.py\n",
    "    \"\"\"\n",
    "    start = 1\n",
    "    interval = 1\n",
    "    for (offset, bus) in sched:\n",
    "        seq = (x for x in \n",
    "               count(start, interval)\n",
    "               if not (x + offset) % bus)\n",
    "        start = next(seq)\n",
    "        interval *= bus\n",
    "    return start\n",
    "\n",
    "t = align_schedule(routes)\n",
    "print(t)\n",
    "assert(t == 1068781)\n",
    "\n",
    "\n",
    "routes = [int(r) if r != 'x' else r for r in puzzle_input.splitlines()[-1].split(',')]\n",
    "routes = enumerate(routes) |> filter$(-> _[1] != 'x') |> list\n",
    "\n",
    "t = align_schedule(routes)\n",
    "print(\"Answer:\", t)"
   ]
  }
 ],
 "metadata": {
  "kernelspec": {
   "display_name": "Coconut",
   "language": "coconut",
   "name": "coconut"
  },
  "language_info": {
   "codemirror_mode": {
    "name": "python",
    "version": 3
   },
   "file_extension": ".coco",
   "mimetype": "text/x-python3",
   "name": "coconut",
   "pygments_lexer": "coconut",
   "version": "1.4.3"
  }
 },
 "nbformat": 4,
 "nbformat_minor": 4
}
